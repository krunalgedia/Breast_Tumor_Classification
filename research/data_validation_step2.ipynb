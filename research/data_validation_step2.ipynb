{
 "cells": [
  {
   "cell_type": "code",
   "execution_count": 1,
   "id": "f654bf7e-3515-4bb8-814e-5f8e796caede",
   "metadata": {},
   "outputs": [
    {
     "data": {
      "text/plain": [
       "'C:\\\\Users\\\\kbged\\\\Downloads\\\\mlprojects\\\\Breast_Tumor_Classification\\\\research'"
      ]
     },
     "execution_count": 1,
     "metadata": {},
     "output_type": "execute_result"
    }
   ],
   "source": [
    "import os\n",
    "%pwd"
   ]
  },
  {
   "cell_type": "code",
   "execution_count": 2,
   "id": "ba590a72-1893-48c0-bfbd-9f219428831f",
   "metadata": {},
   "outputs": [
    {
     "data": {
      "text/plain": [
       "'C:\\\\Users\\\\kbged\\\\Downloads\\\\mlprojects\\\\Breast_Tumor_Classification'"
      ]
     },
     "execution_count": 2,
     "metadata": {},
     "output_type": "execute_result"
    }
   ],
   "source": [
    "os.chdir(\"../\")\n",
    "%pwd"
   ]
  },
  {
   "cell_type": "code",
   "execution_count": 3,
   "id": "22c15fe0-4cee-4b56-a1b7-9721163eb050",
   "metadata": {},
   "outputs": [],
   "source": [
    "from dataclasses import dataclass\n",
    "from pathlib import Path\n",
    "\n",
    "@dataclass(frozen=True)\n",
    "class DataValidationConfig:\n",
    "    root_dir: Path\n",
    "    STATUS_FILE: str\n",
    "    ALL_REQUIRED_FILES: list"
   ]
  },
  {
   "cell_type": "code",
   "execution_count": 4,
   "id": "fb575f76-13d1-4c49-b18d-3b2763afe149",
   "metadata": {},
   "outputs": [],
   "source": [
    "from tumorClassify.constants import *\n",
    "from tumorClassify.utils.common import read_yaml, create_directories, get_size"
   ]
  },
  {
   "cell_type": "code",
   "execution_count": 5,
   "id": "4eca01b4-869d-4a04-88d7-9f06a4bb22b9",
   "metadata": {},
   "outputs": [],
   "source": [
    "class ConfigurationManager:\n",
    "    def __init__(self,\n",
    "                 config_filepath = CONFIG_FILE_PATH,\n",
    "                 params_filepath = PARAMS_FILE_PATH):\n",
    "\n",
    "        self.config = read_yaml(config_filepath)\n",
    "        self.params = read_yaml(params_filepath)\n",
    "\n",
    "        create_directories([self.config.artifacts_root])\n",
    "\n",
    "    def get_data_validation_config(self) -> DataValidationConfig:\n",
    "        \n",
    "        config = self.config.data_validation\n",
    "\n",
    "        create_directories([config.root_dir])\n",
    "\n",
    "        data_validation_config = DataValidationConfig(\n",
    "            root_dir=config.root_dir,\n",
    "            STATUS_FILE=config.STATUS_FILE,\n",
    "            ALL_REQUIRED_FILES=config.ALL_REQUIRED_FILES,\n",
    "        )\n",
    "\n",
    "        return data_validation_config"
   ]
  },
  {
   "cell_type": "code",
   "execution_count": 6,
   "id": "d5eb5fc9-fa3e-450e-ac5e-4966b21f29a7",
   "metadata": {},
   "outputs": [],
   "source": [
    "import os\n",
    "from tumorClassify import logger"
   ]
  },
  {
   "cell_type": "code",
   "execution_count": 9,
   "id": "c8f5ac33-69c6-479d-b560-2c3279bc230a",
   "metadata": {},
   "outputs": [],
   "source": [
    "class DataValiadtion:\n",
    "    def __init__(self, config: DataValidationConfig):\n",
    "        self.config = config\n",
    "    \n",
    "    def validate_all_files_exist(self)-> bool:\n",
    "        try:\n",
    "            validation_status = None\n",
    "\n",
    "            all_files = os.listdir(os.path.join(\"artifacts\",\"data_ingestion\",\"data\"))\n",
    "\n",
    "            for file in all_files:\n",
    "                file_size = get_size(Path(os.path.join(\"artifacts\",\"data_ingestion\",\"data\", file)))\n",
    "                if (file_size == 0):\n",
    "                    logger.error(f\"File is empty: {file}\")\n",
    "                #else:\n",
    "                #    logger.info(f\"File: {file} has size: {file_size}\") \n",
    "                if file not in self.config.ALL_REQUIRED_FILES:\n",
    "                    validation_status = False\n",
    "                    with open(self.config.STATUS_FILE, 'w') as f:\n",
    "                        f.write(f\"Validation status: {validation_status}\")\n",
    "                        logger.info(f\"Validation status of {file}: {validation_status}\")\n",
    "                else:\n",
    "                    validation_status = True\n",
    "                    with open(self.config.STATUS_FILE, 'w') as f:\n",
    "                        f.write(f\"Validation status: {validation_status}\")\n",
    "                        logger.info(f\"Validation status of {file}: {validation_status}\")                        \n",
    "\n",
    "            return validation_status\n",
    "        \n",
    "        except Exception as e:\n",
    "            raise e"
   ]
  },
  {
   "cell_type": "code",
   "execution_count": 10,
   "id": "f610186c-cf14-4963-a8d3-d61a3ad9e285",
   "metadata": {},
   "outputs": [
    {
     "name": "stdout",
     "output_type": "stream",
     "text": [
      "\u001b[32m2024-07-13 17:21:08\u001b[0m | \u001b[1mINFO\u001b[0m | \u001b[36mcommon.py:27\u001b[0m | \u001b[1myaml file: src\\tumorClassify\\config\\config.yaml loaded successfully\u001b[0m\n",
      "\u001b[32m2024-07-13 17:21:08\u001b[0m | \u001b[1mINFO\u001b[0m | \u001b[36mcommon.py:27\u001b[0m | \u001b[1myaml file: params.yaml loaded successfully\u001b[0m\n",
      "\u001b[32m2024-07-13 17:21:08\u001b[0m | \u001b[1mINFO\u001b[0m | \u001b[36mcommon.py:50\u001b[0m | \u001b[1mDirectory already exists at: artifacts\u001b[0m\n",
      "\u001b[32m2024-07-13 17:21:08\u001b[0m | \u001b[1mINFO\u001b[0m | \u001b[36mcommon.py:50\u001b[0m | \u001b[1mDirectory already exists at: artifacts/data_validation\u001b[0m\n",
      "\u001b[32m2024-07-13 17:21:09\u001b[0m | \u001b[1mINFO\u001b[0m | \u001b[36mcommon.py:74\u001b[0m | \u001b[1mSize of directory 'artifacts\\data_ingestion\\data\\benign' is: 148339979 bytes (141.47 MB)\u001b[0m\n",
      "\u001b[32m2024-07-13 17:21:09\u001b[0m | \u001b[1mINFO\u001b[0m | \u001b[36m422309418.py:26\u001b[0m | \u001b[1mValidation status of benign: True\u001b[0m\n",
      "\u001b[32m2024-07-13 17:21:09\u001b[0m | \u001b[1mINFO\u001b[0m | \u001b[36mcommon.py:74\u001b[0m | \u001b[1mSize of directory 'artifacts\\data_ingestion\\data\\malignant' is: 68070884 bytes (64.92 MB)\u001b[0m\n",
      "\u001b[32m2024-07-13 17:21:09\u001b[0m | \u001b[1mINFO\u001b[0m | \u001b[36m422309418.py:26\u001b[0m | \u001b[1mValidation status of malignant: True\u001b[0m\n",
      "\u001b[32m2024-07-13 17:21:09\u001b[0m | \u001b[1mINFO\u001b[0m | \u001b[36mcommon.py:74\u001b[0m | \u001b[1mSize of directory 'artifacts\\data_ingestion\\data\\normal' is: 49774607 bytes (47.47 MB)\u001b[0m\n",
      "\u001b[32m2024-07-13 17:21:09\u001b[0m | \u001b[1mINFO\u001b[0m | \u001b[36m422309418.py:26\u001b[0m | \u001b[1mValidation status of normal: True\u001b[0m\n"
     ]
    }
   ],
   "source": [
    "try:\n",
    "    config = ConfigurationManager()\n",
    "    data_validation_config = config.get_data_validation_config()\n",
    "    data_validation = DataValiadtion(config=data_validation_config)\n",
    "    data_validation.validate_all_files_exist()\n",
    "except Exception as e:\n",
    "    raise e"
   ]
  },
  {
   "cell_type": "code",
   "execution_count": null,
   "id": "4d159489-e488-4765-82a2-44bc8a04d0e9",
   "metadata": {},
   "outputs": [],
   "source": []
  },
  {
   "cell_type": "code",
   "execution_count": null,
   "id": "76dcf1c6-c614-42ec-b631-788eae89fbf5",
   "metadata": {},
   "outputs": [],
   "source": []
  },
  {
   "cell_type": "code",
   "execution_count": null,
   "id": "d23cd18b-4268-40cd-83af-1cad5247cfbe",
   "metadata": {},
   "outputs": [],
   "source": []
  }
 ],
 "metadata": {
  "kernelspec": {
   "display_name": "Python 3 (ipykernel)",
   "language": "python",
   "name": "python3"
  },
  "language_info": {
   "codemirror_mode": {
    "name": "ipython",
    "version": 3
   },
   "file_extension": ".py",
   "mimetype": "text/x-python",
   "name": "python",
   "nbconvert_exporter": "python",
   "pygments_lexer": "ipython3",
   "version": "3.10.12"
  }
 },
 "nbformat": 4,
 "nbformat_minor": 5
}
